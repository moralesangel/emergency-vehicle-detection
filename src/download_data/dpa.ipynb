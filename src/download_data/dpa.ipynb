{
 "cells": [
  {
   "cell_type": "markdown",
   "metadata": {},
   "source": [
    "# Download positive audios"
   ]
  },
  {
   "cell_type": "code",
   "execution_count": 7,
   "metadata": {},
   "outputs": [],
   "source": [
    "import pandas as pd\n",
    "import yt_dlp\n",
    "from pydub import AudioSegment\n",
    "from concurrent.futures import ThreadPoolExecutor, as_completed\n"
   ]
  },
  {
   "cell_type": "code",
   "execution_count": 8,
   "metadata": {},
   "outputs": [],
   "source": [
    "# List of positive class names (for reference)\n",
    "positive_names = [\"Emergency vehicle\", \"Ambulance (siren)\", \"Police car (siren)\", \"Fire engine, fire truck (siren)\"]\n",
    "\n",
    "# Define positive labels (target classes)\n",
    "positive_labels = [\"/m/03j1ly\", \"/m/012n7d\", \"/m/04qvtq\", \"/m/012ndj\"]\n",
    "csv_path = \"../../data/csv_files\"\n",
    "\n",
    "# Load the class label data and training dataset\n",
    "class_labels = pd.read_csv(f\"{csv_path}/class_labels_indices.csv\")\n",
    "\n",
    "b_train = pd.read_csv(f\"{csv_path}/balanced_train_segments.csv\", \n",
    "                      sep=\", \", engine=\"python\")\n",
    "\n",
    "b_val = pd.read_csv(f\"{csv_path}/eval_segments.csv\", \n",
    "                    sep=\", \", engine=\"python\")\n",
    "\n",
    "u_train = pd.read_csv(f\"{csv_path}/unbalanced_train_segments.csv\", \n",
    "                      sep=\", \", engine=\"python\")\n",
    "\n",
    "datasets = [b_train, b_val, u_train]\n",
    "\n",
    "OUTPUT_PATH = \"../../data/audios/positive\"  # Output directory for positive audio files\n"
   ]
  },
  {
   "cell_type": "code",
   "execution_count": 9,
   "metadata": {},
   "outputs": [],
   "source": [
    "def process_row(dataset, i, row):\n",
    "\n",
    "    for positive_label in positive_labels:\n",
    "\n",
    "        row_labels = row['positive_labels'].replace('\"', '').split(',')\n",
    "        video_code = dataset[\"YTID\"][i]\n",
    "        \n",
    "        if positive_label in row_labels:\n",
    "\n",
    "            class_match = class_labels[class_labels[\"mid\"] == positive_label][\"display_name\"]\n",
    "            class_name = class_match.values[0].replace(\" \", \"_\")\n",
    "            output_filename = f\"0-{class_name}-{video_code}\"\n",
    "            url = f\"https://www.youtube.com/watch?v={video_code}\"\n",
    "\n",
    "            ydl_opts = {\n",
    "                'format': 'bestaudio/best',\n",
    "                'geo_bypass': True,\n",
    "                'http_headers': {\n",
    "                    'User-Agent': 'Mozilla/5.0 (Windows NT 10.0; Win64; x64)'\n",
    "                },\n",
    "                'outtmpl': f'{OUTPUT_PATH}/{output_filename}',\n",
    "                'postprocessors': [{\n",
    "                    'key': 'FFmpegExtractAudio',\n",
    "                    'preferredcodec': 'wav',\n",
    "                    'preferredquality': '192',\n",
    "                }],\n",
    "                'postprocessor_args': [\n",
    "                    '-ar', '16000',\n",
    "                    '-ac', '1'\n",
    "                ],\n",
    "                'quiet': True,       # Desactiva todos los mensajes excepto errores\n",
    "                'no_warnings': True  # Suprime las advertencias\n",
    "            }\n",
    "\n",
    "            try:\n",
    "                # Calculate start and end times in milliseconds (pydub works with ms)\n",
    "                start = dataset[\"start_seconds\"][i] * 1000\n",
    "                end = dataset[\"end_seconds\"][i] * 1000\n",
    "\n",
    "                # Download the audio using yt_dlp\n",
    "                with yt_dlp.YoutubeDL(ydl_opts) as ydl:\n",
    "                    ydl.download([url])\n",
    "\n",
    "                # Load the downloaded audio and crop it to the desired segment\n",
    "                audio = AudioSegment.from_file(f\"{OUTPUT_PATH}/{output_filename}.wav\", format=\"wav\")\n",
    "                cropped_audio = audio[start:end]  # Crop the audio between the start and end times\n",
    "                cropped_audio.export(f\"{OUTPUT_PATH}/{output_filename}.wav\", format=\"wav\")  # Save the cropped audio\n",
    "\n",
    "                print(f\"Downloaded and processed: {output_filename}\")\n",
    "            except Exception as e:\n",
    "                print(f\"Error: {e}\")\n",
    "            finally:\n",
    "                break\n"
   ]
  },
  {
   "cell_type": "code",
   "execution_count": null,
   "metadata": {},
   "outputs": [],
   "source": [
    "print(\"Downloading positive audios...\")\n",
    "\n",
    "with ThreadPoolExecutor(max_workers=8) as executor:\n",
    "        futures = []\n",
    "        \n",
    "        for dataset in datasets:\n",
    "            for i, row in dataset.iterrows():\n",
    "                futures.append(executor.submit(process_row, \n",
    "                                               dataset, i, row, \n",
    "                                               ))\n",
    "        \n",
    "        for future in as_completed(futures):\n",
    "            try:\n",
    "                future.result()\n",
    "            except Exception as e:\n",
    "                print(f\"Error during processing: {e}\")\n",
    "\n",
    "print(\"Download completed\")\n"
   ]
  }
 ],
 "metadata": {
  "kernelspec": {
   "display_name": "TFG",
   "language": "python",
   "name": "python3"
  },
  "language_info": {
   "codemirror_mode": {
    "name": "ipython",
    "version": 3
   },
   "file_extension": ".py",
   "mimetype": "text/x-python",
   "name": "python",
   "nbconvert_exporter": "python",
   "pygments_lexer": "ipython3",
   "version": "3.11.4"
  }
 },
 "nbformat": 4,
 "nbformat_minor": 2
}
