{
 "cells": [
  {
   "cell_type": "markdown",
   "metadata": {},
   "source": [
    "# LFCC"
   ]
  },
  {
   "cell_type": "code",
   "execution_count": null,
   "metadata": {},
   "outputs": [],
   "source": [
    "import os\n",
    "import pickle\n",
    "\n",
    "import librosa\n",
    "import numpy as np\n",
    "from tqdm import tqdm"
   ]
  },
  {
   "cell_type": "code",
   "execution_count": null,
   "metadata": {},
   "outputs": [
    {
     "name": "stdout",
     "output_type": "stream",
     "text": [
      "Extracting LFCCs for positive samples...\n"
     ]
    },
    {
     "name": "stderr",
     "output_type": "stream",
     "text": [
      "100%|██████████| 5000/5000 [03:06<00:00, 26.88it/s]\n"
     ]
    },
    {
     "name": "stdout",
     "output_type": "stream",
     "text": [
      "Extracting LFCCs for negative samples...\n"
     ]
    },
    {
     "name": "stderr",
     "output_type": "stream",
     "text": [
      "100%|██████████| 5000/5000 [03:11<00:00, 26.16it/s]\n"
     ]
    },
    {
     "name": "stdout",
     "output_type": "stream",
     "text": [
      "LFCCs extracted and saved in data/lfcc.pkl\n"
     ]
    }
   ],
   "source": [
    "AUDIOS_DIR = \"../../data/audios\"  # Replace with your audio directory\n",
    "\n",
    "lfccs = {\"positive\": [], \"pnames\": [], \"negative\": [], \"nnames\": []}\n",
    "\n",
    "for label in [\"positive\", \"negative\"]:\n",
    "    print(f\"Extracting LFCCs for {label} samples...\")\n",
    "    for audio_file in tqdm(os.listdir(f\"{AUDIOS_DIR}/{label}\")):\n",
    "        audio_path = f\"{AUDIOS_DIR}/{label}/{audio_file}\"\n",
    "        signal, sr = librosa.load(audio_path, sr=16000)\n",
    "        linear_spec = np.abs(librosa.stft(signal, n_fft=2048)) ** 2\n",
    "\n",
    "        # Calculate LFCCs directly from the linear spectrogram\n",
    "        lfcc = librosa.feature.mfcc(\n",
    "            S=librosa.power_to_db(linear_spec), n_mfcc=12, dct_type=2\n",
    "        )  # dct_type=2 is the default\n",
    "\n",
    "        lfccs[label].append(lfcc)\n",
    "        if label == \"positive\":\n",
    "            lfccs[\"pnames\"].append(audio_file)\n",
    "        else:\n",
    "            lfccs[\"nnames\"].append(audio_file)\n",
    "\n",
    "with open(\"../../data/lfcc.pkl\", \"wb\") as f:\n",
    "    pickle.dump(lfccs, f)\n",
    "print(\"LFCCs extracted and saved in data/lfcc.pkl\")\n"
   ]
  }
 ],
 "metadata": {
  "kernelspec": {
   "display_name": "TFG",
   "language": "python",
   "name": "python3"
  },
  "language_info": {
   "codemirror_mode": {
    "name": "ipython",
    "version": 3
   },
   "file_extension": ".py",
   "mimetype": "text/x-python",
   "name": "python",
   "nbconvert_exporter": "python",
   "pygments_lexer": "ipython3",
   "version": "3.11.4"
  }
 },
 "nbformat": 4,
 "nbformat_minor": 2
}
