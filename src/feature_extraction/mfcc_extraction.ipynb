{
 "cells": [
  {
   "cell_type": "markdown",
   "metadata": {},
   "source": [
    "# MFCC feature extraction"
   ]
  },
  {
   "cell_type": "code",
   "execution_count": null,
   "metadata": {},
   "outputs": [],
   "source": [
    "import os\n",
    "import pickle\n",
    "\n",
    "import librosa\n",
    "from tqdm import tqdm\n"
   ]
  },
  {
   "cell_type": "code",
   "execution_count": null,
   "metadata": {},
   "outputs": [
    {
     "name": "stdout",
     "output_type": "stream",
     "text": [
      "Extracting MFCCs for positive samples...\n"
     ]
    },
    {
     "name": "stderr",
     "output_type": "stream",
     "text": [
      "  0%|          | 0/5000 [00:00<?, ?it/s]"
     ]
    },
    {
     "name": "stderr",
     "output_type": "stream",
     "text": [
      "100%|██████████| 5000/5000 [03:51<00:00, 21.60it/s]\n"
     ]
    },
    {
     "name": "stdout",
     "output_type": "stream",
     "text": [
      "Extracting MFCCs for negative samples...\n"
     ]
    },
    {
     "name": "stderr",
     "output_type": "stream",
     "text": [
      "100%|██████████| 5000/5000 [04:15<00:00, 19.58it/s]\n"
     ]
    },
    {
     "name": "stdout",
     "output_type": "stream",
     "text": [
      "MFCCs extracted and saved in data/mfcc.pkl\n"
     ]
    }
   ],
   "source": [
    "AUDIOS_DIR = \"../../data/audios\"\n",
    "mfccs = {\"positive\": [], \"pnames\": [], \"negative\": [], \"nnames\": []}\n",
    "\n",
    "for label in [\"positive\", \"negative\"]:\n",
    "    print(f\"Extracting MFCCs for {label} samples...\")\n",
    "    for audio_file in tqdm(os.listdir(f\"{AUDIOS_DIR}/{label}\")):\n",
    "        audio_path = f\"{AUDIOS_DIR}/{label}/{audio_file}\"\n",
    "        signal, sr = librosa.load(audio_path, sr=16000)\n",
    "        mfcc = librosa.feature.mfcc(y=signal, sr=sr, n_mfcc=12)\n",
    "        mfccs[label].append(mfcc)\n",
    "        if label == \"positive\":\n",
    "            mfccs[\"pnames\"].append(audio_file)\n",
    "        else:\n",
    "            mfccs[\"nnames\"].append(audio_file)\n",
    "\n",
    "with open(\"../../data/mfcc.pkl\", \"wb\") as f:\n",
    "    pickle.dump(mfccs, f)\n",
    "print(\"MFCCs extracted and saved in data/mfcc.pkl\")\n"
   ]
  }
 ],
 "metadata": {
  "kernelspec": {
   "display_name": "TFG",
   "language": "python",
   "name": "python3"
  },
  "language_info": {
   "codemirror_mode": {
    "name": "ipython",
    "version": 3
   },
   "file_extension": ".py",
   "mimetype": "text/x-python",
   "name": "python",
   "nbconvert_exporter": "python",
   "pygments_lexer": "ipython3",
   "version": "3.11.4"
  }
 },
 "nbformat": 4,
 "nbformat_minor": 2
}
