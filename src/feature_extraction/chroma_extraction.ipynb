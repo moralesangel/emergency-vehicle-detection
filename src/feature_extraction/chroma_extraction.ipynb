{
 "cells": [
  {
   "cell_type": "markdown",
   "metadata": {},
   "source": [
    "# Chroma features extraction"
   ]
  },
  {
   "cell_type": "code",
   "execution_count": 1,
   "metadata": {},
   "outputs": [],
   "source": [
    "import pickle\n",
    "import librosa\n",
    "from tqdm import tqdm\n",
    "import os\n"
   ]
  },
  {
   "cell_type": "code",
   "execution_count": null,
   "metadata": {},
   "outputs": [
    {
     "name": "stdout",
     "output_type": "stream",
     "text": [
      "Extracting chroma for positive samples...\n"
     ]
    },
    {
     "name": "stderr",
     "output_type": "stream",
     "text": [
      " 35%|███▌      | 1754/5000 [01:30<02:17, 23.62it/s]c:\\Users\\angel\\anaconda3\\envs\\TFG\\Lib\\site-packages\\librosa\\core\\pitch.py:101: UserWarning: Trying to estimate tuning from empty frequency set.\n",
      "  return pitch_tuning(\n",
      "100%|██████████| 5000/5000 [03:55<00:00, 21.23it/s]\n"
     ]
    },
    {
     "name": "stdout",
     "output_type": "stream",
     "text": [
      "Extracting chroma for negative samples...\n"
     ]
    },
    {
     "name": "stderr",
     "output_type": "stream",
     "text": [
      "100%|██████████| 5000/5000 [04:15<00:00, 19.58it/s]\n"
     ]
    },
    {
     "name": "stdout",
     "output_type": "stream",
     "text": [
      "Chroma extracted and saved in data/chroma.pkl\n"
     ]
    }
   ],
   "source": [
    "AUDIOS_DIR = '../../data/audios'\n",
    "chromas = {\n",
    "    'positive': [],\n",
    "    'pnames': [],\n",
    "    'negative': [],\n",
    "    'nnames': []\n",
    "}\n",
    "\n",
    "for label in ['positive', 'negative']:\n",
    "    print(f'Extracting chroma for {label} samples...')\n",
    "    for audio_file in tqdm(os.listdir(f'{AUDIOS_DIR}/{label}')):\n",
    "        audio_path = f'{AUDIOS_DIR}/{label}/{audio_file}'\n",
    "        signal, sr = librosa.load(audio_path, sr=16000)\n",
    "        chroma = librosa.feature.chroma_stft(y=signal, sr=sr)\n",
    "        chromas[label].append(chroma)\n",
    "        if label == 'positive':\n",
    "            chromas['pnames'].append(audio_file)\n",
    "        else:\n",
    "            chromas['nnames'].append(audio_file)\n",
    "\n",
    "with open('../../data/chroma.pkl', 'wb') as f:\n",
    "    pickle.dump(chromas, f)\n",
    "print('Chroma extracted and saved in data/chroma.pkl')\n"
   ]
  }
 ],
 "metadata": {
  "kernelspec": {
   "display_name": "TFG",
   "language": "python",
   "name": "python3"
  },
  "language_info": {
   "codemirror_mode": {
    "name": "ipython",
    "version": 3
   },
   "file_extension": ".py",
   "mimetype": "text/x-python",
   "name": "python",
   "nbconvert_exporter": "python",
   "pygments_lexer": "ipython3",
   "version": "3.11.4"
  }
 },
 "nbformat": 4,
 "nbformat_minor": 2
}
